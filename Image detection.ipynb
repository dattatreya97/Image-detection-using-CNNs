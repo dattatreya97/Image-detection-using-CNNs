{
 "cells": [
  {
   "cell_type": "markdown",
   "metadata": {},
   "source": [
    "# Emotion Detection using CNNs\n",
    "\n",
    "The code is part of Tensorflow CNN introduction. Playing around with different models and comparing the accuracy."
   ]
  },
  {
   "cell_type": "code",
   "execution_count": 7,
   "metadata": {},
   "outputs": [],
   "source": [
    "import numpy as np\n",
    "import tensorflow as tf\n",
    "from tensorflow.keras import preprocessing,models,datasets,layers\n",
    "\n",
    "\n",
    "%matplotlib inline"
   ]
  },
  {
   "cell_type": "markdown",
   "metadata": {},
   "source": [
    "## Loading CIFAR10 dataset"
   ]
  },
  {
   "cell_type": "code",
   "execution_count": 8,
   "metadata": {},
   "outputs": [],
   "source": [
    "(train_images, train_labels), (test_images, test_labels) = datasets.cifar10.load_data()\n",
    "train_images, test_images = train_images / 255.0, test_images / 255.0"
   ]
  },
  {
   "cell_type": "code",
   "execution_count": 12,
   "metadata": {},
   "outputs": [
    {
     "name": "stdout",
     "output_type": "stream",
     "text": [
      "(10000, 32, 32, 3)\n"
     ]
    }
   ],
   "source": [
    "testing_data = test_images[10:]\n",
    "testing_labels = test_images[10:]\n",
    "\n",
    "class_names = ['airplane', 'automobile', 'bird', 'cat', 'deer',\n",
    "               'dog', 'frog', 'horse', 'ship', 'truck']\n",
    "print(test_images.shape)\n"
   ]
  },
  {
   "cell_type": "markdown",
   "metadata": {},
   "source": [
    "### Ceating a model \n",
    "A simple CNN model with Conv2D layers. ReLU activation and Fully connected Layer"
   ]
  },
  {
   "cell_type": "code",
   "execution_count": 13,
   "metadata": {},
   "outputs": [],
   "source": [
    "model = models.Sequential()\n",
    "\n",
    "model = models.Sequential()\n",
    "model.add(layers.Conv2D(32, (3, 3), activation='relu', input_shape=(32, 32, 3)))\n",
    "model.add(layers.MaxPooling2D((2, 2)))\n",
    "model.add(layers.Conv2D(64, (3, 3), activation='relu'))\n",
    "model.add(layers.MaxPooling2D((2, 2)))\n",
    "model.add(layers.Conv2D(64, (3, 3), activation='relu'))\n",
    "model.add(layers.Flatten())\n",
    "model.add(layers.Dense(64, activation='relu'))\n",
    "model.add(layers.Dense(10))"
   ]
  },
  {
   "cell_type": "code",
   "execution_count": 14,
   "metadata": {},
   "outputs": [
    {
     "name": "stdout",
     "output_type": "stream",
     "text": [
      "Model: \"sequential_1\"\n",
      "_________________________________________________________________\n",
      "Layer (type)                 Output Shape              Param #   \n",
      "=================================================================\n",
      "conv2d (Conv2D)              (None, 30, 30, 32)        896       \n",
      "_________________________________________________________________\n",
      "max_pooling2d (MaxPooling2D) (None, 15, 15, 32)        0         \n",
      "_________________________________________________________________\n",
      "conv2d_1 (Conv2D)            (None, 13, 13, 64)        18496     \n",
      "_________________________________________________________________\n",
      "max_pooling2d_1 (MaxPooling2 (None, 6, 6, 64)          0         \n",
      "_________________________________________________________________\n",
      "conv2d_2 (Conv2D)            (None, 4, 4, 64)          36928     \n",
      "_________________________________________________________________\n",
      "flatten (Flatten)            (None, 1024)              0         \n",
      "_________________________________________________________________\n",
      "dense (Dense)                (None, 64)                65600     \n",
      "_________________________________________________________________\n",
      "dense_1 (Dense)              (None, 10)                650       \n",
      "=================================================================\n",
      "Total params: 122,570\n",
      "Trainable params: 122,570\n",
      "Non-trainable params: 0\n",
      "_________________________________________________________________\n"
     ]
    }
   ],
   "source": [
    "model.summary()"
   ]
  },
  {
   "cell_type": "code",
   "execution_count": 15,
   "metadata": {},
   "outputs": [
    {
     "name": "stdout",
     "output_type": "stream",
     "text": [
      "Epoch 1/10\n",
      "1563/1563 [==============================] - 28s 18ms/step - loss: 1.7223 - accuracy: 0.3620 - val_loss: 1.2977 - val_accuracy: 0.5386\n",
      "Epoch 2/10\n",
      "1563/1563 [==============================] - 28s 18ms/step - loss: 1.1849 - accuracy: 0.5778 - val_loss: 1.1404 - val_accuracy: 0.5936\n",
      "Epoch 3/10\n",
      "1563/1563 [==============================] - 30s 19ms/step - loss: 1.0108 - accuracy: 0.6441 - val_loss: 1.0879 - val_accuracy: 0.6325\n",
      "Epoch 4/10\n",
      "1563/1563 [==============================] - 29s 19ms/step - loss: 0.8960 - accuracy: 0.6843 - val_loss: 0.8933 - val_accuracy: 0.6864\n",
      "Epoch 5/10\n",
      "1563/1563 [==============================] - 29s 19ms/step - loss: 0.8148 - accuracy: 0.7133 - val_loss: 0.8757 - val_accuracy: 0.7000\n",
      "Epoch 6/10\n",
      "1563/1563 [==============================] - 31s 20ms/step - loss: 0.7635 - accuracy: 0.7330 - val_loss: 0.8811 - val_accuracy: 0.6982\n",
      "Epoch 7/10\n",
      "1563/1563 [==============================] - 33s 21ms/step - loss: 0.7180 - accuracy: 0.7466 - val_loss: 0.8550 - val_accuracy: 0.7087\n",
      "Epoch 8/10\n",
      "1563/1563 [==============================] - 33s 21ms/step - loss: 0.6681 - accuracy: 0.7662 - val_loss: 0.8887 - val_accuracy: 0.6979\n",
      "Epoch 9/10\n",
      "1563/1563 [==============================] - 32s 20ms/step - loss: 0.6309 - accuracy: 0.7793 - val_loss: 0.8677 - val_accuracy: 0.7135\n",
      "Epoch 10/10\n",
      "1563/1563 [==============================] - 33s 21ms/step - loss: 0.5977 - accuracy: 0.7889 - val_loss: 0.8743 - val_accuracy: 0.7083\n"
     ]
    }
   ],
   "source": [
    "model.compile(optimizer='adam',\n",
    "              loss=tf.keras.losses.SparseCategoricalCrossentropy(from_logits=True),\n",
    "              metrics=['accuracy'])\n",
    "\n",
    "history = model.fit(train_images, train_labels, epochs=10, \n",
    "                    validation_data=(test_images, test_labels))\n"
   ]
  },
  {
   "cell_type": "code",
   "execution_count": 16,
   "metadata": {},
   "outputs": [
    {
     "name": "stdout",
     "output_type": "stream",
     "text": [
      "313/313 - 1s - loss: 0.8743 - accuracy: 0.7083\n"
     ]
    }
   ],
   "source": [
    "test_loss, test_acc = model.evaluate(test_images,  test_labels, verbose=2)\n"
   ]
  },
  {
   "cell_type": "markdown",
   "metadata": {},
   "source": [
    "## Creating a model\n",
    "CNN - ReLU - MaxPooL( 32F 3x3)<br>\n",
    "CNN - ReLU - AvgPooL (128F 7x7)<br>\n",
    "CNN - ReLU - MaxPooL (64F 5x5 )<br> \n",
    "FC-ReLU (256)<br>\n",
    "FC- ReLU (128)<br><br><br>\n",
    "Experimenting by adding more Convd2D layers with different filter sizes, with an Average pooling layer between two Max pooling layers.<br>\n",
    "This has more parameters compared to previous model.<br>\n",
    "Comparing accuracies later"
   ]
  },
  {
   "cell_type": "code",
   "execution_count": 17,
   "metadata": {},
   "outputs": [
    {
     "name": "stdout",
     "output_type": "stream",
     "text": [
      "Model: \"sequential_3\"\n",
      "_________________________________________________________________\n",
      "Layer (type)                 Output Shape              Param #   \n",
      "=================================================================\n",
      "conv2d_3 (Conv2D)            (None, 30, 30, 32)        896       \n",
      "_________________________________________________________________\n",
      "max_pooling2d_2 (MaxPooling2 (None, 15, 15, 32)        0         \n",
      "_________________________________________________________________\n",
      "conv2d_4 (Conv2D)            (None, 9, 9, 128)         200832    \n",
      "_________________________________________________________________\n",
      "average_pooling2d (AveragePo (None, 5, 5, 128)         0         \n",
      "_________________________________________________________________\n",
      "conv2d_5 (Conv2D)            (None, 1, 1, 64)          204864    \n",
      "_________________________________________________________________\n",
      "max_pooling2d_3 (MaxPooling2 (None, 1, 1, 64)          0         \n",
      "_________________________________________________________________\n",
      "flatten_1 (Flatten)          (None, 64)                0         \n",
      "_________________________________________________________________\n",
      "dense_2 (Dense)              (None, 256)               16640     \n",
      "_________________________________________________________________\n",
      "dense_3 (Dense)              (None, 128)               32896     \n",
      "_________________________________________________________________\n",
      "dense_4 (Dense)              (None, 10)                1290      \n",
      "=================================================================\n",
      "Total params: 457,418\n",
      "Trainable params: 457,418\n",
      "Non-trainable params: 0\n",
      "_________________________________________________________________\n"
     ]
    }
   ],
   "source": [
    "model2 = models.Sequential()\n",
    "\n",
    "model2 = models.Sequential()\n",
    "model2.add(layers.Conv2D(32, (3, 3), activation='relu', input_shape=(32, 32, 3)))\n",
    "model2.add(layers.MaxPooling2D((2, 2),padding='same'))\n",
    "\n",
    "model2.add(layers.Conv2D(128, (7, 7), activation='relu'))\n",
    "model2.add(layers.AveragePooling2D((2, 2),padding='same'))\n",
    "\n",
    "model2.add(layers.Conv2D(64, (5, 5), activation='relu'))\n",
    "model2.add(layers.MaxPooling2D((2, 2),padding='same'))\n",
    "\n",
    "\n",
    "model2.add(layers.Flatten())\n",
    "model2.add(layers.Dense(256, activation='relu'))\n",
    "model2.add(layers.Dense(128, activation='relu'))\n",
    "model2.add(layers.Dense(10))\n",
    "model2.summary()"
   ]
  },
  {
   "cell_type": "code",
   "execution_count": 18,
   "metadata": {},
   "outputs": [
    {
     "name": "stdout",
     "output_type": "stream",
     "text": [
      "Epoch 1/10\n",
      "1563/1563 [==============================] - 50s 31ms/step - loss: 1.7373 - accuracy: 0.3472 - val_loss: 1.3334 - val_accuracy: 0.5183\n",
      "Epoch 2/10\n",
      "1563/1563 [==============================] - 50s 32ms/step - loss: 1.2290 - accuracy: 0.5553 - val_loss: 1.2089 - val_accuracy: 0.5568\n",
      "Epoch 3/10\n",
      "1563/1563 [==============================] - 51s 33ms/step - loss: 1.0716 - accuracy: 0.6176 - val_loss: 1.0280 - val_accuracy: 0.6375\n",
      "Epoch 4/10\n",
      "1563/1563 [==============================] - 50s 32ms/step - loss: 0.9699 - accuracy: 0.6561 - val_loss: 0.9739 - val_accuracy: 0.6567\n",
      "Epoch 5/10\n",
      "1563/1563 [==============================] - 49s 32ms/step - loss: 0.8966 - accuracy: 0.6859 - val_loss: 0.9934 - val_accuracy: 0.6493\n",
      "Epoch 6/10\n",
      "1563/1563 [==============================] - 49s 31ms/step - loss: 0.8441 - accuracy: 0.7032 - val_loss: 0.9329 - val_accuracy: 0.6759\n",
      "Epoch 7/10\n",
      "1563/1563 [==============================] - 49s 31ms/step - loss: 0.7927 - accuracy: 0.7228 - val_loss: 0.8924 - val_accuracy: 0.6942\n",
      "Epoch 8/10\n",
      "1563/1563 [==============================] - 50s 32ms/step - loss: 0.7437 - accuracy: 0.7383 - val_loss: 0.9094 - val_accuracy: 0.6886\n",
      "Epoch 9/10\n",
      "1563/1563 [==============================] - 50s 32ms/step - loss: 0.7010 - accuracy: 0.7538 - val_loss: 0.9457 - val_accuracy: 0.6892\n",
      "Epoch 10/10\n",
      "1563/1563 [==============================] - 48s 31ms/step - loss: 0.6533 - accuracy: 0.7727 - val_loss: 0.8954 - val_accuracy: 0.6970\n"
     ]
    }
   ],
   "source": [
    "model2.compile(optimizer='adam',\n",
    "              loss=tf.keras.losses.SparseCategoricalCrossentropy(from_logits=True),\n",
    "              metrics=['accuracy'])\n",
    "\n",
    "history = model2.fit(train_images, train_labels, epochs=10, \n",
    "                    validation_data=(test_images, test_labels))"
   ]
  },
  {
   "cell_type": "code",
   "execution_count": 19,
   "metadata": {},
   "outputs": [
    {
     "name": "stdout",
     "output_type": "stream",
     "text": [
      "313/313 - 2s - loss: 0.8954 - accuracy: 0.6970\n"
     ]
    }
   ],
   "source": [
    "test_loss, test_acc = model2.evaluate(test_images,  test_labels, verbose=2)"
   ]
  },
  {
   "cell_type": "markdown",
   "metadata": {},
   "source": [
    "### Accuracy has slightly reduced by adding more layers and more parameters"
   ]
  },
  {
   "cell_type": "code",
   "execution_count": null,
   "metadata": {},
   "outputs": [],
   "source": []
  }
 ],
 "metadata": {
  "kernelspec": {
   "display_name": "Python 3",
   "language": "python",
   "name": "python3"
  },
  "language_info": {
   "codemirror_mode": {
    "name": "ipython",
    "version": 3
   },
   "file_extension": ".py",
   "mimetype": "text/x-python",
   "name": "python",
   "nbconvert_exporter": "python",
   "pygments_lexer": "ipython3",
   "version": "3.7.9"
  }
 },
 "nbformat": 4,
 "nbformat_minor": 4
}
